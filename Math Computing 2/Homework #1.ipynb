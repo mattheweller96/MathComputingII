{
 "cells": [
  {
   "cell_type": "markdown",
   "metadata": {},
   "source": [
    "# Homework 1\n",
    "## Matthew Eller\n",
    "## Time (hours): 4"
   ]
  },
  {
   "cell_type": "markdown",
   "metadata": {},
   "source": [
    "#### #1. Write a function matrix_mul(m1,m2) to calcualte the matrix multiplication between two lists of matrices m1 and m2. m1 can be an arbitrary u x v matrix, i.e., a list of u elements, each element is a list of v items. m2 is an arbitrary v x w matrix, i.e., a list of v elements, each element is a list of w items. The output of the function is a list of u elements, each element is a list of w items."
   ]
  },
  {
   "cell_type": "code",
   "execution_count": 1,
   "metadata": {},
   "outputs": [
    {
     "name": "stdout",
     "output_type": "stream",
     "text": [
      "[9, 12, 15]\n",
      "[19, 26, 33]\n",
      "[29, 40, 51]\n"
     ]
    }
   ],
   "source": [
    "def matrix_mul(a, b):\n",
    "    \n",
    "        new_matrix = [[0 for i in range(len(a))] for j in range(len(b[0]))] # initate loop control variable, a matrix of zeros\n",
    "\n",
    "        for i in range(len(a)): #pick item in a given row\n",
    "            \n",
    "            for j in range(len(b[0])): #pick first item from columns in matrix b and move to further columns\n",
    "                \n",
    "                for k in range(len(b)): #pick index from column\n",
    "                    \n",
    "                    new_matrix[i][j]+=a[i][k]*b[k][j] #update the product matrix and continue through elements\n",
    "                    \n",
    "        for element in new_matrix:\n",
    "            \n",
    "            print(element)\n",
    "            \n",
    "            \n",
    "            \n",
    "            \n",
    "# check function using a known problem         \n",
    "a=[[1,2],[3,4],[5,6]]\n",
    "b=[[1,2,3],[4,5,6]]\n",
    "matrix_mul(a,b)\n",
    "\n",
    "# sources:\n",
    "# https://www.programiz.com/python-programming/examples/multiply-matrix\n",
    "# https://stackoverflow.com/questions/13570832/creating-a-matrix-with-m-1-columns-and-n-1-rows"
   ]
  },
  {
   "cell_type": "markdown",
   "metadata": {},
   "source": [
    "#### #2. Write a function number_pyramid(row) to generate a numpy array of number pyramid as below, and fill in the empty position with zero's. The input row indicates the number of rows in the pyramid."
   ]
  },
  {
   "cell_type": "code",
   "execution_count": 20,
   "metadata": {},
   "outputs": [
    {
     "name": "stdout",
     "output_type": "stream",
     "text": [
      "0 0 0 0 0 0 0 0 0 1 0 0 0 0 0 0 0 0 0  \n",
      "0 0 0 0 0 0 0 0 1 2 1 0 0 0 0 0 0 0 0  \n",
      "0 0 0 0 0 0 0 1 2 3 2 1 0 0 0 0 0 0 0  \n",
      "0 0 0 0 0 0 1 2 3 4 3 2 1 0 0 0 0 0 0  \n",
      "0 0 0 0 0 1 2 3 4 5 4 3 2 1 0 0 0 0 0  \n",
      "0 0 0 0 1 2 3 4 5 6 5 4 3 2 1 0 0 0 0  \n",
      "0 0 0 1 2 3 4 5 6 7 6 5 4 3 2 1 0 0 0  \n",
      "0 0 1 2 3 4 5 6 7 8 7 6 5 4 3 2 1 0 0  \n",
      "0 1 2 3 4 5 6 7 8 9 8 7 6 5 4 3 2 1 0  \n"
     ]
    },
    {
     "data": {
      "text/plain": [
       "array(<function number_pyramid at 0x05D9CB70>, dtype=object)"
      ]
     },
     "execution_count": 20,
     "metadata": {},
     "output_type": "execute_result"
    }
   ],
   "source": [
    "import numpy as np\n",
    "\n",
    "def number_pyramid(number):\n",
    "    \n",
    "    for i in range(1,number+1):  #pull numbers from the range 1 through number\n",
    "        \n",
    "        for space in range(number+1,i,-1):\n",
    "            print(\"0\",end=' ') #insert leading zeros before numbers i\n",
    "            \n",
    "        for j in range(1,i+1):\n",
    "            print(j,end=' ') #print numbers in ascending order\n",
    "            \n",
    "        if i>1:\n",
    "            \n",
    "            for k in range(i-1,0,-1):\n",
    "                print(k,end=' ') #print numbers in descending order when i>1\n",
    "                \n",
    "        for zero in range(number+1,i,-1):\n",
    "            print(\"0\",end=' ')   #print trailing zeros\n",
    "            \n",
    "        print(' ')\n",
    "        \n",
    "    return np.array(number_pyramid) #convert output to numpy array type\n",
    "            \n",
    "number_pyramid(9) #test function with number=9"
   ]
  },
  {
   "cell_type": "code",
   "execution_count": null,
   "metadata": {},
   "outputs": [],
   "source": []
  }
 ],
 "metadata": {
  "kernelspec": {
   "display_name": "Python 3",
   "language": "python",
   "name": "python3"
  },
  "language_info": {
   "codemirror_mode": {
    "name": "ipython",
    "version": 3
   },
   "file_extension": ".py",
   "mimetype": "text/x-python",
   "name": "python",
   "nbconvert_exporter": "python",
   "pygments_lexer": "ipython3",
   "version": "3.6.5"
  }
 },
 "nbformat": 4,
 "nbformat_minor": 2
}
