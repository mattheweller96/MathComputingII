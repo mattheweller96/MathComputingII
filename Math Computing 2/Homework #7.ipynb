{
 "cells": [
  {
   "cell_type": "markdown",
   "metadata": {},
   "source": [
    "# Homework 7\n",
    "## Matthew Eller\n",
    "## Time (hours):\n",
    "### Collaborator: Maggie Reed"
   ]
  },
  {
   "cell_type": "markdown",
   "metadata": {},
   "source": [
    "1. Write a function resizeImage(filename,newWidth,newHeight), so that you can resize the image to any width and height. The input filename is the path to an given image file, newWidth is the width of image after resizing, and newHeight is the height after resizing. Note that new width and height can be either smaller or bigger than the original width and height."
   ]
  },
  {
   "cell_type": "code",
   "execution_count": 1,
   "metadata": {},
   "outputs": [],
   "source": [
    "import cImage\n",
    "\n",
    "myWin=cImage.ImageWin(\"My Image\",1280,720)\n",
    "shrek=cImage.FileImage(r\"C:\\Users\\Owner\\Documents\\Math Computing 2\\shrek.jpg\")\n",
    "\n",
    "shrek.draw(myWin)\n",
    "shrek.save(\"newshrek.jpg\")\n",
    "myWin.exitOnClick()"
   ]
  },
  {
   "cell_type": "code",
   "execution_count": 2,
   "metadata": {},
   "outputs": [
    {
     "ename": "SyntaxError",
     "evalue": "invalid syntax (<ipython-input-2-848ffac4a031>, line 10)",
     "output_type": "error",
     "traceback": [
      "\u001b[1;36m  File \u001b[1;32m\"<ipython-input-2-848ffac4a031>\"\u001b[1;36m, line \u001b[1;32m10\u001b[0m\n\u001b[1;33m    return(imNew,newWidth,newHeight)\u001b[0m\n\u001b[1;37m         ^\u001b[0m\n\u001b[1;31mSyntaxError\u001b[0m\u001b[1;31m:\u001b[0m invalid syntax\n"
     ]
    }
   ],
   "source": [
    "def resizeImage(filename,newWidth,newHeight):\n",
    "    im=cImage.FileImage(filename)\n",
    "    w=im.getWidth()\n",
    "    h=im.getHeight()\n",
    "    imNew=cImage.EmptyImage(newWidth,newHeight)\n",
    "    \n",
    "    for i in range(newWidth):\n",
    "        for j in range(newHeight):\n",
    "            imNew.setPixel(i,j,im.getPixel((i*w)//newWidth,(j*h)//newHeight)                     \n",
    "    return(imNew,newWidth,newHeight)\n",
    "                           \n",
    "## Obtain the FileImage object\n",
    "resizeImage, w, h = resizeImage(r\"C:\\Users\\Owner\\Documents\\Math Computing 2\\shrek.jpg\",2,2)\n",
    "\n",
    "## Create the window and draw the image\n",
    "myWin = cImage.ImageWin(\"Scaling\",w,h)\n",
    "resizeImage.draw(myWin)\n",
    "myWin.exitOnClick()"
   ]
  },
  {
   "cell_type": "code",
   "execution_count": null,
   "metadata": {},
   "outputs": [],
   "source": []
  },
  {
   "cell_type": "code",
   "execution_count": 21,
   "metadata": {},
   "outputs": [],
   "source": []
  },
  {
   "cell_type": "code",
   "execution_count": null,
   "metadata": {},
   "outputs": [],
   "source": []
  },
  {
   "cell_type": "markdown",
   "metadata": {},
   "source": [
    "2. Buffon's needle is a very old simulation for approximating π . Google this simulation and use the formula π ≈ 2l*N/dn , where l is the length of the needle, d is the line spacing, N is the number of needles, and n is the number of needles crossing a line. Let's start with the following code:\n",
    "```\n",
    "import turtle\n",
    "import random\n",
    "import math\n",
    "\n",
    "l = 30\n",
    "d = 50\n",
    "N = 40\n",
    "\n",
    "    Create the window that the coordinates is from (-100,100) to (100,100)\n",
    "win = turtle.Screen()\n",
    "win.setworldcoordinates(-100,-100,100,100)\n",
    "t = turtle.Turtle(visible=False)\n",
    "t.hideturtle()\n",
    "t.speed(10)\n",
    "\n",
    "    Draw vertical lines at x=-100,-50,0,50,100.\n",
    "for i in range(0,5):\n",
    "  t.up()\n",
    "  t.goto(-100+i*d,-100)\n",
    "  t.down()\n",
    "  t.goto(-100+i*d,100)\n",
    "\n",
    "    Draw N needles of length l\n",
    "t.color(\"red\")\n",
    "for i in range(N):\n",
    "    x=random.randint(-80,80)\n",
    "    y=random.randint(-80,80)\n",
    "    angle=random.randint(0,360)\n",
    "    t.up()\n",
    "    t.goto(x,y)\n",
    "    t.setheading(angle)\n",
    "    t.down()\n",
    "    t.forward(l)\n",
    "\n",
    "win.exitonclick()\n",
    "```"
   ]
  },
  {
   "cell_type": "markdown",
   "metadata": {},
   "source": [
    "2. a) Run the code above to obtain a turtle display, how many needles cross a line? That is your n in this simulation. Compute LaTeX: \\pi π  using your n, and from the code you can find l, d, and N."
   ]
  },
  {
   "cell_type": "code",
   "execution_count": 1,
   "metadata": {},
   "outputs": [
    {
     "name": "stdout",
     "output_type": "stream",
     "text": [
      "21\n",
      "2.2857142857142856\n"
     ]
    }
   ],
   "source": [
    "import turtle\n",
    "import random\n",
    "import math\n",
    "\n",
    "l = 30\n",
    "d = 50\n",
    "N = 40\n",
    "#n is the same thing as hits\n",
    "hits = 0\n",
    "\n",
    "# Create the window that the coordinates is from (-100,100) to (100,100)\n",
    "win = turtle.Screen()\n",
    "win.setworldcoordinates(-100,-100,100,100)\n",
    "t = turtle.Turtle(visible=False)\n",
    "t.hideturtle()\n",
    "t.speed(10)\n",
    "\n",
    "# Draw vertical lines at x=-100,-50,0,50,100.\n",
    "for i in range(0,5):\n",
    "  t.up()\n",
    "  t.goto(-100+i*d,-100)\n",
    "  t.down()\n",
    "  t.goto(-100+i*d,100)\n",
    "\n",
    "# Draw N needles of length l\n",
    "t.color(\"red\")\n",
    "for i in range(N):\n",
    "    x=random.randint(-80,80)\n",
    "    y=random.randint(-80,80)\n",
    "    angle=random.randint(0,360)\n",
    "    t.up()\n",
    "    t.goto(x,y)\n",
    "    t.setheading(angle)\n",
    "    t.down()\n",
    "    t.forward(l)\n",
    "    \n",
    "for i in range(N):\n",
    "        distanceToLine = 2 * random.random() #distance to the next line from the needle\n",
    "        #needleAngle = random.randint(0, 180) #angle of needle.\n",
    "        needleDistance = math.sin(math.radians(angle)) #needle stretch to a line via angle\n",
    "        \n",
    "        #check if needle crosses a line\n",
    "        if needleDistance >= distanceToLine:\n",
    "            hits += 1\n",
    "        else:\n",
    "            continue\n",
    "        hits\n",
    "\n",
    "approx = ((2*l*N)/(d*hits))\n",
    "print(hits)\n",
    "print(approx)\n",
    "win.exitonclick()"
   ]
  },
  {
   "cell_type": "markdown",
   "metadata": {},
   "source": [
    "2.b. Assume the line spacing d = 50, so the lines locate at x = 0 , ± 50 , ± 100 , ⋯ \n",
    "\n",
    "Write a function isCrossing(x,y,angle,l) to automatically detect if a needle is crossing a line. \n",
    "\n",
    "The inputs x, y are the location of one endpoint, angle is the angle towards the other endpoint, and L is length of the needle."
   ]
  },
  {
   "cell_type": "code",
   "execution_count": 3,
   "metadata": {},
   "outputs": [
    {
     "data": {
      "text/plain": [
       "-74"
      ]
     },
     "execution_count": 3,
     "metadata": {},
     "output_type": "execute_result"
    }
   ],
   "source": [
    "def isCrossing(x,y,angle,l):\n",
    "    #define lines\n",
    "    for i in range (-100,100):\n",
    "        N1=(-100,i)\n",
    "        N2=(-50,i)\n",
    "        N3=(0,i)\n",
    "        N4=(50,i)\n",
    "        N5=(100,i)"
   ]
  },
  {
   "cell_type": "code",
   "execution_count": null,
   "metadata": {},
   "outputs": [],
   "source": []
  },
  {
   "cell_type": "markdown",
   "metadata": {},
   "source": [
    "2.c. Assume the lines locate at x = 0 , ± 50 , ± 100 , ⋯  Write a function BuffonsNeedlePi(L,N) to\n",
    "approximate π . The input L is length of the needle, and N is the number of needles."
   ]
  },
  {
   "cell_type": "code",
   "execution_count": null,
   "metadata": {},
   "outputs": [],
   "source": []
  }
 ],
 "metadata": {
  "kernelspec": {
   "display_name": "Python 3",
   "language": "python",
   "name": "python3"
  },
  "language_info": {
   "codemirror_mode": {
    "name": "ipython",
    "version": 3
   },
   "file_extension": ".py",
   "mimetype": "text/x-python",
   "name": "python",
   "nbconvert_exporter": "python",
   "pygments_lexer": "ipython3",
   "version": "3.7.1"
  }
 },
 "nbformat": 4,
 "nbformat_minor": 2
}
