{
 "cells": [
  {
   "cell_type": "markdown",
   "metadata": {},
   "source": [
    "# Homework 2\n",
    "## Matthew Eller\n",
    "## Collaborator: Maggie Reed\n",
    "## Time (hours): 4"
   ]
  },
  {
   "cell_type": "markdown",
   "metadata": {},
   "source": [
    "#### #1. Rotate the 4-D array\n",
    "    array4 = np.arange(36).reshape((2, 3, 2, 3))\n",
    "    print(array4)"
   ]
  },
  {
   "cell_type": "code",
   "execution_count": 3,
   "metadata": {},
   "outputs": [
    {
     "name": "stdout",
     "output_type": "stream",
     "text": [
      "[[[[ 0  1  2]\n",
      "   [ 3  4  5]]\n",
      "\n",
      "  [[ 6  7  8]\n",
      "   [ 9 10 11]]\n",
      "\n",
      "  [[12 13 14]\n",
      "   [15 16 17]]]\n",
      "\n",
      "\n",
      " [[[18 19 20]\n",
      "   [21 22 23]]\n",
      "\n",
      "  [[24 25 26]\n",
      "   [27 28 29]]\n",
      "\n",
      "  [[30 31 32]\n",
      "   [33 34 35]]]]\n"
     ]
    }
   ],
   "source": [
    "import numpy as np\n",
    "\n",
    "array4 = np.arange(36).reshape((2, 3, 2, 3))\n",
    "print(array4)"
   ]
  },
  {
   "cell_type": "markdown",
   "metadata": {},
   "source": [
    "#### Question 1. How will array4.T change the order of dimensions? Use the transpose method to get the same result as array4.T"
   ]
  },
  {
   "cell_type": "code",
   "execution_count": 4,
   "metadata": {},
   "outputs": [
    {
     "name": "stdout",
     "output_type": "stream",
     "text": [
      "array4.T\n",
      "[[[[ 0 18]\n",
      "   [ 6 24]\n",
      "   [12 30]]\n",
      "\n",
      "  [[ 3 21]\n",
      "   [ 9 27]\n",
      "   [15 33]]]\n",
      "\n",
      "\n",
      " [[[ 1 19]\n",
      "   [ 7 25]\n",
      "   [13 31]]\n",
      "\n",
      "  [[ 4 22]\n",
      "   [10 28]\n",
      "   [16 34]]]\n",
      "\n",
      "\n",
      " [[[ 2 20]\n",
      "   [ 8 26]\n",
      "   [14 32]]\n",
      "\n",
      "  [[ 5 23]\n",
      "   [11 29]\n",
      "   [17 35]]]]\n",
      "transpose method\n",
      "[[[[ 0 18]\n",
      "   [ 6 24]\n",
      "   [12 30]]\n",
      "\n",
      "  [[ 3 21]\n",
      "   [ 9 27]\n",
      "   [15 33]]]\n",
      "\n",
      "\n",
      " [[[ 1 19]\n",
      "   [ 7 25]\n",
      "   [13 31]]\n",
      "\n",
      "  [[ 4 22]\n",
      "   [10 28]\n",
      "   [16 34]]]\n",
      "\n",
      "\n",
      " [[[ 2 20]\n",
      "   [ 8 26]\n",
      "   [14 32]]\n",
      "\n",
      "  [[ 5 23]\n",
      "   [11 29]\n",
      "   [17 35]]]]\n",
      "show they are equal arrays\n",
      "[[[[ True  True]\n",
      "   [ True  True]\n",
      "   [ True  True]]\n",
      "\n",
      "  [[ True  True]\n",
      "   [ True  True]\n",
      "   [ True  True]]]\n",
      "\n",
      "\n",
      " [[[ True  True]\n",
      "   [ True  True]\n",
      "   [ True  True]]\n",
      "\n",
      "  [[ True  True]\n",
      "   [ True  True]\n",
      "   [ True  True]]]\n",
      "\n",
      "\n",
      " [[[ True  True]\n",
      "   [ True  True]\n",
      "   [ True  True]]\n",
      "\n",
      "  [[ True  True]\n",
      "   [ True  True]\n",
      "   [ True  True]]]]\n"
     ]
    }
   ],
   "source": [
    "print(\"array4.T\")\n",
    "print(array4.T) #array4.T permutes axes 1 and 2 and permutes 0 and 3 as (12)(03) in cycle notation\n",
    "print(\"transpose method\")\n",
    "print(np.transpose(array4, (3,2,1,0))) #0-->3, 1-->2, 2-->1, and 3-->0 using transpose method\n",
    "print(\"show they are equal arrays\")\n",
    "print(array4.T==np.transpose(array4, (3,2,1,0))) #check that both methods achieve equal result"
   ]
  },
  {
   "cell_type": "markdown",
   "metadata": {},
   "source": [
    "#### Question 2. How will array4.swapaxes(1,2) change the order of dimensions? Use the transpose method to get the same result as array4.swapaxes(1,2)."
   ]
  },
  {
   "cell_type": "code",
   "execution_count": 10,
   "metadata": {},
   "outputs": [
    {
     "name": "stdout",
     "output_type": "stream",
     "text": [
      "swap axes method\n",
      "[[[[ 0  1  2]\n",
      "   [ 6  7  8]\n",
      "   [12 13 14]]\n",
      "\n",
      "  [[ 3  4  5]\n",
      "   [ 9 10 11]\n",
      "   [15 16 17]]]\n",
      "\n",
      "\n",
      " [[[18 19 20]\n",
      "   [24 25 26]\n",
      "   [30 31 32]]\n",
      "\n",
      "  [[21 22 23]\n",
      "   [27 28 29]\n",
      "   [33 34 35]]]]\n",
      "transpose method\n",
      "[[[[ 0  1  2]\n",
      "   [ 6  7  8]\n",
      "   [12 13 14]]\n",
      "\n",
      "  [[ 3  4  5]\n",
      "   [ 9 10 11]\n",
      "   [15 16 17]]]\n",
      "\n",
      "\n",
      " [[[18 19 20]\n",
      "   [24 25 26]\n",
      "   [30 31 32]]\n",
      "\n",
      "  [[21 22 23]\n",
      "   [27 28 29]\n",
      "   [33 34 35]]]]\n",
      "show that they are equal arrays\n",
      "[[[[ True  True  True]\n",
      "   [ True  True  True]\n",
      "   [ True  True  True]]\n",
      "\n",
      "  [[ True  True  True]\n",
      "   [ True  True  True]\n",
      "   [ True  True  True]]]\n",
      "\n",
      "\n",
      " [[[ True  True  True]\n",
      "   [ True  True  True]\n",
      "   [ True  True  True]]\n",
      "\n",
      "  [[ True  True  True]\n",
      "   [ True  True  True]\n",
      "   [ True  True  True]]]]\n"
     ]
    }
   ],
   "source": [
    "print(\"swap axes method\")\n",
    "print(array4.swapaxes(1,2)) #swaps axes 1 and 2, does not change dimension of resulting array\n",
    "print(\"transpose method\")\n",
    "print(np.transpose(array4,(0,2,1,3))) #transposes axes 1 and 2\n",
    "print(\"show that they are equal arrays\")\n",
    "print(array4.swapaxes(1,2)==np.transpose(array4,(0,2,1,3))) #show resulting arrays have equal results"
   ]
  },
  {
   "cell_type": "markdown",
   "metadata": {},
   "source": [
    "#### Question 3. Use the transpose method to generate the following result:\n",
    "    [[[[ 0  6 12]\n",
    "       [ 3  9 15]]\n",
    "      [[18 24 30]\n",
    "       [21 27 33]]]\n",
    "     [[[ 1  7 13]\n",
    "       [ 4 10 16]]\n",
    "      [[19 25 31]\n",
    "       [22 28 34]]]\n",
    "     [[[ 2  8 14]\n",
    "       [ 5 11 17]]\n",
    "      [[20 26 32]\n",
    "       [23 29 35]]]]"
   ]
  },
  {
   "cell_type": "code",
   "execution_count": 27,
   "metadata": {},
   "outputs": [
    {
     "name": "stdout",
     "output_type": "stream",
     "text": [
      "transpose method\n",
      "[[[[ 0  6 12]\n",
      "   [ 3  9 15]]\n",
      "\n",
      "  [[18 24 30]\n",
      "   [21 27 33]]]\n",
      "\n",
      "\n",
      " [[[ 1  7 13]\n",
      "   [ 4 10 16]]\n",
      "\n",
      "  [[19 25 31]\n",
      "   [22 28 34]]]\n",
      "\n",
      "\n",
      " [[[ 2  8 14]\n",
      "   [ 5 11 17]]\n",
      "\n",
      "  [[20 26 32]\n",
      "   [23 29 35]]]]\n"
     ]
    }
   ],
   "source": [
    "print(\"transpose method\")\n",
    "print(np.transpose(array4,(3,0,2,1))) # permute axes as 0-->1, 1-->3, 3-->0 or (013) as a cycle"
   ]
  },
  {
   "cell_type": "markdown",
   "metadata": {},
   "source": [
    "#### #2.  The ndarray.argmin() and ndarray.argmax() methods can only return the index from a flat array, which means they unfold the n-dim array into 1-d array and return the 1-d index. For example, the following code will return 18. Now we want to obtain a tuple of indices which can be used to locate the minimum or maximum. Each element of the tuple is the index of minimum or maximum in the corresponding dimension. In the following example we want to find (4,2), so that array[4,2] will give the maximum.\n",
    "       np.random.seed(10)\n",
    "       array2 = np.random.randn(5, 4)\n",
    "       print(array2)\n",
    "       array2.argmax()\n",
    "#### Please write two functions array_argmin(arr) and array_argmax(arr) where the input arr is an n-dim array, and the functions will return a tuple of n indices for the minimum and maximum respectively."
   ]
  },
  {
   "cell_type": "code",
   "execution_count": 2,
   "metadata": {},
   "outputs": [
    {
     "name": "stdout",
     "output_type": "stream",
     "text": [
      "~~**Please input an array size by typing in a whole real value for rows and columns**~~\n",
      "Row: 4\n",
      "Column: 5\n",
      "\n",
      "The resulting random array is: \n",
      "\n",
      "[[ 1.3315865   0.71527897 -1.54540029 -0.00838385  0.62133597]\n",
      " [-0.72008556  0.26551159  0.10854853  0.00429143 -0.17460021]\n",
      " [ 0.43302619  1.20303737 -0.96506567  1.02827408  0.22863013]\n",
      " [ 0.44513761 -1.13660221  0.13513688  1.484537   -1.07980489]]\n",
      "\n",
      "~~**Type 0 for the indices of the minimum value and 1 for the maximum**~~\n",
      "\n",
      "0 or 1: 0\n",
      "\n",
      "The indices of the min value are:  (array([0], dtype=int32), array([2], dtype=int32))\n"
     ]
    }
   ],
   "source": [
    "import numpy as np\n",
    "np.random.seed(10) #seed at 10\n",
    "\n",
    "print('~~**Please input an array size by typing in a whole real value for rows and columns**~~')\n",
    "\n",
    "#propt for user input of number of rows and columns for array\n",
    "rowx = int(input('Row: '))\n",
    "coly = int(input('Column: '))\n",
    "print(\"\")\n",
    "\n",
    "#create a random array using the seed from the user input\n",
    "array2 = np.random.randn(rowx,coly)\n",
    "print(\"The resulting random array is: \")\n",
    "print(\"\")\n",
    "print(array2)\n",
    "print(\"\")\n",
    "\n",
    "#define array_argmax function using array2 as input\n",
    "#find the position where the max occurs, print position indice\n",
    "def array_argmax(array2):\n",
    "    return(np.where(array2==array2.max()))\n",
    "\n",
    "#define array_argmin function using array2 as input\n",
    "#find the position where the min occurs, print position indice\n",
    "def array_argmin(array2):\n",
    "    return(np.where(array2==array2.min()))\n",
    "\n",
    "\n",
    "#prompt user for input as to whether they want to find the min or max value's position\n",
    "#if input==0, return argmin\n",
    "#if input==1, return argmax\n",
    "print('~~**Type 0 for the indices of the minimum value and 1 for the maximum**~~')\n",
    "print(\"\")\n",
    "select = int(input('0 or 1: '))\n",
    "\n",
    "if select == 0:\n",
    "    print(\"\")\n",
    "    print(\"The indices of the min value are: \", array_argmin(array2))\n",
    "    \n",
    "else:\n",
    "    print(\"\")\n",
    "    print(\"The indices of the max value are: \", array_argmax(array2))"
   ]
  },
  {
   "cell_type": "markdown",
   "metadata": {},
   "source": [
    "#### #3. Let X be a time series of 0's and 1's indicating the outcome of each trial (0 is failure, 1 is success). Write a function relative_freq(arr) where the input arr is a 1-d array of 0's and 1's. The function returns a 1-d array of the same size, of which each element is the relative frequency of success at the current time point. For example, X = [0,0,1,0,0,1,1,0,0,1] shows the result of 10 trials at time points 1,2,3,...,10. The function will find the relative frequency of success at each time point, i.e.p^=[0/1,0/2,1/3,1/4,1/5,2/6,3/7,3/8,3/9,4/10]\n",
    "#### (Hint: use cumsum.)"
   ]
  },
  {
   "cell_type": "code",
   "execution_count": 3,
   "metadata": {},
   "outputs": [
    {
     "name": "stdout",
     "output_type": "stream",
     "text": [
      "[1 1 0 1 0 1 1 0 1 1]\n",
      "1/1 2/2 2/3 3/4 3/5 4/6 5/7 5/8 6/9 7/10 \n"
     ]
    }
   ],
   "source": [
    "import numpy as np\n",
    "\n",
    "np.random.seed(10) #seed at 10\n",
    "arr = np.random.choice(2,10) #creates a 1D array of ones and zeros\n",
    "print(arr)\n",
    "\n",
    "countarr = np.cumsum(arr) #sum cumulatively across arr array\n",
    "\n",
    "\n",
    "def relative_freq(countarr):\n",
    "    result = '' #initialize variable\n",
    "    count = 1 #starting index of denominator\n",
    "    \n",
    "    for (index, k) in np.ndenumerate(countarr): \n",
    "        result = (result+str(k)+'/'+str(count)+' ')  #generates the relative frequency of success using string methods\n",
    "        count = count + 1 #continues to move through counting the trial set\n",
    "    print(result) #prints result to new array and continues\n",
    "    \n",
    "relative_freq(countarr)"
   ]
  },
  {
   "cell_type": "code",
   "execution_count": null,
   "metadata": {},
   "outputs": [],
   "source": []
  }
 ],
 "metadata": {
  "kernelspec": {
   "display_name": "Python 3",
   "language": "python",
   "name": "python3"
  },
  "language_info": {
   "codemirror_mode": {
    "name": "ipython",
    "version": 3
   },
   "file_extension": ".py",
   "mimetype": "text/x-python",
   "name": "python",
   "nbconvert_exporter": "python",
   "pygments_lexer": "ipython3",
   "version": "3.6.5"
  }
 },
 "nbformat": 4,
 "nbformat_minor": 2
}
